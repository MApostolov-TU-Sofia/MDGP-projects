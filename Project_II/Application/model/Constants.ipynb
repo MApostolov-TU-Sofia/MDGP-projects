{
 "cells": [
  {
   "cell_type": "code",
   "execution_count": 6,
   "id": "03042441",
   "metadata": {},
   "outputs": [],
   "source": [
    "constants = {\n",
    "    'author': \"Mariyan Apostolov\",\n",
    "    'pathInput': \"documents/input/\",\n",
    "    'pathOutput': \"documents/output/\",\n",
    "    'AAPL': \"Apple Inc.\",\n",
    "    'BAC': \"Bank of America Corp\",\n",
    "    'BLK': \"BlackRock\",\n",
    "    'CME': \"CME Group Inc.\",\n",
    "    'CMG': \"Chipotle Mexican Grill\",\n",
    "    'CRM': \"Salesforce.com\",\n",
    "    'DXC': \"DXC Technology\",\n",
    "    'EA': \"Electronic Arts\",\n",
    "    'FB': \"Facebook, Inc.\",\n",
    "    'GD': \"General Dynamics\",\n",
    "    'GOOGL': \"Alphabet Inc Class A\",\n",
    "    'GOOG': \"Alphabet Inc Class C\",\n",
    "    'GS': \"Goldman Sachs Group\",\n",
    "    'HPE': \"Hewlett Packard Enterprise\",\n",
    "    'IBM': \"International Business Machines\",\n",
    "    'INTC': \"Intel Corp.\",\n",
    "    'JPM': \"JPMorgan Chase and Co.\",\n",
    "    'KO': \"Coca-Cola Company\",\n",
    "    'MCD': \"McDonald's Corp.\",\n",
    "    'MSFT': \"Microsoft Corp.\",\n",
    "    'NDAQ': \"Nasdaq, Inc.\",\n",
    "    'NFLX': \"Netflix Inc.\",\n",
    "    'NOC': \"Northrop Grumman\",\n",
    "    'NVDA': \"Nvidia Corporation\",\n",
    "    'QCOM': \"QUALCOMM Inc\"\n",
    "}"
   ]
  },
  {
   "cell_type": "code",
   "execution_count": null,
   "id": "72bba570",
   "metadata": {},
   "outputs": [],
   "source": []
  }
 ],
 "metadata": {
  "kernelspec": {
   "display_name": "Python 3 (ipykernel)",
   "language": "python",
   "name": "python3"
  },
  "language_info": {
   "codemirror_mode": {
    "name": "ipython",
    "version": 3
   },
   "file_extension": ".py",
   "mimetype": "text/x-python",
   "name": "python",
   "nbconvert_exporter": "python",
   "pygments_lexer": "ipython3",
   "version": "3.11.4"
  }
 },
 "nbformat": 4,
 "nbformat_minor": 5
}
