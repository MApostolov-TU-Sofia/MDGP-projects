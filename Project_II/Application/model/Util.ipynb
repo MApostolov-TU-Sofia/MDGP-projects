{
 "cells": [
  {
   "cell_type": "code",
   "execution_count": 32,
   "id": "646dd47e",
   "metadata": {},
   "outputs": [],
   "source": [
    "import pandas as pd\n",
    "\n",
    "def writeGEXFFile(path, graph, constants, templ):\n",
    "    iXML = '''<?xml version=\"1.0\" encoding=\"utf-8\" standalone=\"yes\"?>\n",
    "<gexf xmlns=\"http://www.gexf.net/1.2draft\" xmlns:viz=\"http://www.gexf.net/1.2draft/viz\" version=\"1.2\">\n",
    "  <meta lastmodifieddate=\"{}\">\n",
    "    <creator>{}</creator>\n",
    "  </meta>\n",
    "  <graph mode=\"static\" defaultedgetype=\"undirected\" idtype=\"integer\">\n",
    "  '''.format(pd.to_datetime('today').strftime('%Y-%m-%d'), constants['author'])\n",
    "\n",
    "    iXML += '<nodes count=\"{}\">'.format(len(graph.keys()))\n",
    "    \n",
    "    # Add nodes in the xml\n",
    "    for cmp in graph.keys():\n",
    "        iXML += '''\n",
    "        <node id=\"{}\" label=\"{}\" type=\"string\" />'''.format(cmp, constants[cmp])\n",
    "            \n",
    "    # Add edges in the xml\n",
    "    iInXML = ''\n",
    "    i = 0\n",
    "    for cmp in graph:\n",
    "        for inCmp in graph[cmp]:\n",
    "            iInXML += '''\n",
    "        <edge id=\"{}\" source=\"{}\" target=\"{}\" weight=\"{}\" />'''.format(i, cmp, inCmp, graph[cmp][inCmp])\n",
    "            i = i + 1\n",
    "        \n",
    "    iXML += '''\n",
    "    </nodes>\n",
    "    <edges count=\"{}\">{}\n",
    "    </edges>\n",
    "  </graph>\n",
    "</gexf>'''.format(i, iInXML)\n",
    "\n",
    "    # print(iXML)\n",
    "    # Create a file and modify xml contents\n",
    "    file = open('{}{}_{}.gexf'.format(constants['pathOutput'], templ, path.name),'w')\n",
    "    file.writelines(iXML)\n",
    "    file.close()\n",
    "    "
   ]
  },
  {
   "cell_type": "code",
   "execution_count": null,
   "id": "978ad3c1",
   "metadata": {},
   "outputs": [],
   "source": []
  }
 ],
 "metadata": {
  "kernelspec": {
   "display_name": "Python 3 (ipykernel)",
   "language": "python",
   "name": "python3"
  },
  "language_info": {
   "codemirror_mode": {
    "name": "ipython",
    "version": 3
   },
   "file_extension": ".py",
   "mimetype": "text/x-python",
   "name": "python",
   "nbconvert_exporter": "python",
   "pygments_lexer": "ipython3",
   "version": "3.11.4"
  }
 },
 "nbformat": 4,
 "nbformat_minor": 5
}
